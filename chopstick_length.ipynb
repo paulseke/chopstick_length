{
 "cells": [
  {
   "cell_type": "markdown",
   "metadata": {},
   "source": [
    "# Jupiter notebook warm up exercise: determining the optimum length of chopsticks\n",
    "By *Paul F. Seke E.*"
   ]
  },
  {
   "cell_type": "markdown",
   "metadata": {},
   "source": [
    "The present is a warm up exercise for data analysis practice using python in a jupiter notebook.   \n",
    "\n",
    "### 1. Context and objective\n",
    "A few researchers set out to determine the optimal length of chopsticks for children and adults. They came up with a measure of how effective a pair of chopsticks performed, called the \"Food Pinching Performance.\" The \"Food Pinching Performance\" was determined by counting the number of peanuts picked and placed in a cup (PPPC).\n",
    "[Link to Abstract and Paper](http://www.ncbi.nlm.nih.gov/pubmed/15676839). *the abstract below was adapted from the link.*  \n",
    "\n",
    "Chopsticks are one of the most simple and popular hand tools ever invented by humans, but have not previously been investigated by [ergonomists](https://www.google.com/search?q=ergonomists). Two laboratory studies were conducted in this research, using a [randomised complete block design](http://dawg.utk.edu/glossary/whatis_rcbd.htm), to evaluate the effects of the length of the chopsticks on the food-serving performance of adults and children. Thirty-one male junior college students and 21 primary school pupils served as subjects for the experiment to test chopsticks lengths of 180, 210, 240, 270, 300, and 330 mm. The results showed that the food-pinching performance was significantly affected by the length of the chopsticks, and that chopsticks of about 240 and 180 mm long were optimal for adults and pupils, respectively. Based on these findings, the researchers suggested that families with children should provide both 240 and 180 mm long chopsticks. In addition, restaurants could provide 210 mm long chopsticks, considering the trade-offs between ergonomics and cost.\n",
    "  "
   ]
  },
  {
   "cell_type": "markdown",
   "metadata": {},
   "source": [
    "### 2. Parameters\n",
    "- the independent variable in the experiment: chopstick length\n",
    "- the dependent variable: food pinching efficiency\n",
    "- dependent variable operational definition: count of the number of peanuts picked and placed in a cup\n",
    "- main variables controlled: sex and instruction level (males, junior college students), and ability (skill) to use chopsticks   \n"
   ]
  },
  {
   "cell_type": "markdown",
   "metadata": {},
   "source": [
    "One great advantage of ipython notebooks is that you can document your data analysis using code, add comments to the code, or even add blocks of text using Markdown. These notebooks allow you to collaborate with others and share your work. For now, let's see some code for doing statistics.\n",
    "  \n",
    "### 3. Data analysis and plotting\n",
    "#### 3.1.  Pandas "
   ]
  },
  {
   "cell_type": "code",
   "execution_count": 1,
   "metadata": {
    "collapsed": false
   },
   "outputs": [
    {
     "data": {
      "text/html": [
       "<div>\n",
       "<table border=\"1\" class=\"dataframe\">\n",
       "  <thead>\n",
       "    <tr style=\"text-align: right;\">\n",
       "      <th></th>\n",
       "      <th>Food.Pinching.Efficiency</th>\n",
       "      <th>Individual</th>\n",
       "      <th>Chopstick.Length</th>\n",
       "    </tr>\n",
       "  </thead>\n",
       "  <tbody>\n",
       "    <tr>\n",
       "      <th>0</th>\n",
       "      <td>19.55</td>\n",
       "      <td>1</td>\n",
       "      <td>180</td>\n",
       "    </tr>\n",
       "    <tr>\n",
       "      <th>1</th>\n",
       "      <td>27.24</td>\n",
       "      <td>2</td>\n",
       "      <td>180</td>\n",
       "    </tr>\n",
       "    <tr>\n",
       "      <th>2</th>\n",
       "      <td>28.76</td>\n",
       "      <td>3</td>\n",
       "      <td>180</td>\n",
       "    </tr>\n",
       "    <tr>\n",
       "      <th>3</th>\n",
       "      <td>31.19</td>\n",
       "      <td>4</td>\n",
       "      <td>180</td>\n",
       "    </tr>\n",
       "    <tr>\n",
       "      <th>4</th>\n",
       "      <td>21.91</td>\n",
       "      <td>5</td>\n",
       "      <td>180</td>\n",
       "    </tr>\n",
       "  </tbody>\n",
       "</table>\n",
       "</div>"
      ],
      "text/plain": [
       "   Food.Pinching.Efficiency  Individual  Chopstick.Length\n",
       "0                     19.55           1               180\n",
       "1                     27.24           2               180\n",
       "2                     28.76           3               180\n",
       "3                     31.19           4               180\n",
       "4                     21.91           5               180"
      ]
     },
     "execution_count": 1,
     "metadata": {},
     "output_type": "execute_result"
    }
   ],
   "source": [
    "import pandas as pd\n",
    "\n",
    "# pandas is a software library for data manipulation and analysis\n",
    "# Pandas is often abbreviated to pd.\n",
    "# hit shift + enter to run this cell or block of code\n",
    "\n",
    "path = 'chopstick-effectiveness.csv'\n",
    "# Change the path to the location where the chopstick-effectiveness.csv file is located on your computer.\n",
    "# If you get an error when running this block of code, be sure the chopstick-effectiveness.csv is located at the path on your computer.\n",
    "\n",
    "dataFrame = pd.read_csv(path)\n",
    "dataFrame.head()"
   ]
  },
  {
   "cell_type": "markdown",
   "metadata": {},
   "source": [
    "#### 3.2. Some basic statistical calculation on the data  "
   ]
  },
  {
   "cell_type": "code",
   "execution_count": 2,
   "metadata": {
    "collapsed": false
   },
   "outputs": [
    {
     "name": "stdout",
     "output_type": "stream",
     "text": [
      "Average food Pinching Efficiency for all 31 participants: 25.0055913978\n",
      "\n",
      "average Food Pinching Efficiency for each chopstick length:\n"
     ]
    },
    {
     "data": {
      "text/html": [
       "<div>\n",
       "<table border=\"1\" class=\"dataframe\">\n",
       "  <thead>\n",
       "    <tr style=\"text-align: right;\">\n",
       "      <th></th>\n",
       "      <th>Chopstick.Length</th>\n",
       "      <th>Food.Pinching.Efficiency</th>\n",
       "    </tr>\n",
       "  </thead>\n",
       "  <tbody>\n",
       "    <tr>\n",
       "      <th>0</th>\n",
       "      <td>180</td>\n",
       "      <td>24.935161</td>\n",
       "    </tr>\n",
       "    <tr>\n",
       "      <th>1</th>\n",
       "      <td>210</td>\n",
       "      <td>25.483871</td>\n",
       "    </tr>\n",
       "    <tr>\n",
       "      <th>2</th>\n",
       "      <td>240</td>\n",
       "      <td>26.322903</td>\n",
       "    </tr>\n",
       "    <tr>\n",
       "      <th>3</th>\n",
       "      <td>270</td>\n",
       "      <td>24.323871</td>\n",
       "    </tr>\n",
       "    <tr>\n",
       "      <th>4</th>\n",
       "      <td>300</td>\n",
       "      <td>24.968065</td>\n",
       "    </tr>\n",
       "    <tr>\n",
       "      <th>5</th>\n",
       "      <td>330</td>\n",
       "      <td>23.999677</td>\n",
       "    </tr>\n",
       "  </tbody>\n",
       "</table>\n",
       "</div>"
      ],
      "text/plain": [
       "   Chopstick.Length  Food.Pinching.Efficiency\n",
       "0               180                 24.935161\n",
       "1               210                 25.483871\n",
       "2               240                 26.322903\n",
       "3               270                 24.323871\n",
       "4               300                 24.968065\n",
       "5               330                 23.999677"
      ]
     },
     "execution_count": 2,
     "metadata": {},
     "output_type": "execute_result"
    }
   ],
   "source": [
    "print \"Average food Pinching Efficiency for all 31 participants:\", dataFrame['Food.Pinching.Efficiency'].mean()\n",
    "print \"\"\n",
    "\n",
    "meansByChopstickLength = dataFrame.groupby('Chopstick.Length')['Food.Pinching.Efficiency'].mean().reset_index()\n",
    "print \"average Food Pinching Efficiency for each chopstick length:\" \n",
    "meansByChopstickLength\n",
    "\n",
    "# reset_index() changes Chopstick.Length from an index to column. Instead of the index being the length of the chopsticks, the index is the row numbers 0, 1, 2, 3, 4, 5."
   ]
  },
  {
   "cell_type": "markdown",
   "metadata": {},
   "source": [
    "#### 3.3. Chopstick length that performed the best for the group of 31 male junior college students:\n",
    "240 mmm (highest average Food pinching efficiency)\n",
    "#### 3.4.  scatter plot\n"
   ]
  },
  {
   "cell_type": "code",
   "execution_count": 3,
   "metadata": {
    "collapsed": false
   },
   "outputs": [
    {
     "name": "stdout",
     "output_type": "stream",
     "text": [
      "Populating the interactive namespace from numpy and matplotlib\n"
     ]
    },
    {
     "data": {
      "image/png": "[encoded data removed]",
      "text/plain": [
       "<matplotlib.figure.Figure at 0x7fcf560c4dd0>"
      ]
     },
     "metadata": {},
     "output_type": "display_data"
    }
   ],
   "source": [
    "# Causes plots to display within the notebook rather than in a new window\n",
    "%pylab inline\n",
    "\n",
    "import matplotlib.pyplot as plt\n",
    "\n",
    "plt.scatter(x=meansByChopstickLength['Chopstick.Length'], y=meansByChopstickLength['Food.Pinching.Efficiency'])\n",
    "            # title=\"\")\n",
    "plt.xlabel(\"Length in mm\")\n",
    "plt.ylabel(\"Efficiency in PPPC\")\n",
    "plt.title(\"Average Food Pinching Efficiency by Chopstick Length\")\n",
    "plt.show()"
   ]
  },
  {
   "cell_type": "markdown",
   "metadata": {},
   "source": [
    "** *Analysis:* ** Food pinching efficiency increases with chopstick length until a maximal average length of 240mm, where it starts to decrease. Curiously, in addition, the 240mm is the most efficient length. However, it also appears that college students with 270mm long chopsticks had a worse food pinching efficiency than groups with longer chopsticks (300 and 330mm). In the abstract the researchers stated that their results showed food-pinching performance was significantly affected by the length of the chopsticks, and that chopsticks of about 240 mm long were optimal for adults. Based on the data analysis, we do not agree with this claim.   \n",
    "The data could have suggested a polynomial (level 2) correlation between chopstick length and the food pinching efficiency (with statistically significant inter-group differences as revealed by one-way ANOVA post-hoc analysis) if the scatter plot had not revealed two modes (bimodal curve). This observation invalidate the hypothesis of such causality as it indicates that other parameters affect the food pinching efficiency besides the parameters normalized and the chopstick length. \n"
   ]
  }
 ],
 "metadata": {
  "anaconda-cloud": {},
  "kernelspec": {
   "display_name": "Python [default]",
   "language": "python",
   "name": "python2"
  },
  "language_info": {
   "codemirror_mode": {
    "name": "ipython",
    "version": 2
   },
   "file_extension": ".py",
   "mimetype": "text/x-python",
   "name": "python",
   "nbconvert_exporter": "python",
   "pygments_lexer": "ipython2",
   "version": "2.7.12"
  }
 },
 "nbformat": 4,
 "nbformat_minor": 0
}
